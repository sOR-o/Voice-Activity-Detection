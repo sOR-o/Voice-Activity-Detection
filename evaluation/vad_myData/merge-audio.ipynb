{
 "cells": [
  {
   "cell_type": "code",
   "execution_count": 1,
   "id": "cf6886cc-9a54-43c3-bc01-72a4c57e06e0",
   "metadata": {},
   "outputs": [],
   "source": [
    "import os\n",
    "import torch\n",
    "import torchaudio"
   ]
  },
  {
   "cell_type": "code",
   "execution_count": 2,
   "id": "5e338fb3-d383-470a-aabc-b51e713707ce",
   "metadata": {},
   "outputs": [
    {
     "name": "stderr",
     "output_type": "stream",
     "text": [
      "Downloading: \"https://github.com/snakers4/silero-vad/zipball/master\" to ../models/.cache/master.zip\n"
     ]
    }
   ],
   "source": [
    "# silero\n",
    "SAMPLING_RATE = 16000\n",
    "torch.set_num_threads(1)\n",
    "\n",
    "torch.hub.set_dir('../models/.cache')\n",
    "model_silero, utils_silero = torch.hub.load(repo_or_dir='snakers4/silero-vad',\n",
    "                              model='silero_vad',\n",
    "                              force_reload=True,\n",
    "                              onnx=False)\n",
    "\n",
    "(get_speech_timestamps,\n",
    " save_audio,\n",
    " read_audio,\n",
    " VADIterator,\n",
    " collect_chunks) = utils_silero"
   ]
  },
  {
   "cell_type": "code",
   "execution_count": 7,
   "id": "2c45b569-e6bc-4510-9ad3-f3e346435f19",
   "metadata": {},
   "outputs": [],
   "source": [
    "def process_directory(input_directory, output_directory, model_silero, sampling_rate=SAMPLING_RATE):\n",
    "    \n",
    "    os.makedirs(output_directory, exist_ok=True)\n",
    "    wav_files = [f for f in os.listdir(input_directory) if f.endswith('.wav')]\n",
    "\n",
    "    for wav_file in wav_files:\n",
    "        input_file_path = os.path.join(input_directory, wav_file)\n",
    "        wav = read_audio(input_file_path, sampling_rate=sampling_rate)\n",
    "\n",
    "        speech_timestamps = get_speech_timestamps(wav, model_silero, sampling_rate=sampling_rate)\n",
    "        merged_audio = collect_chunks(speech_timestamps, wav)\n",
    "\n",
    "        output_file_path = os.path.join(output_directory, wav_file)\n",
    "        save_audio(output_file_path, merged_audio, sampling_rate=sampling_rate)\n",
    "\n",
    "    print(\"merge sucessfull\")"
   ]
  },
  {
   "cell_type": "code",
   "execution_count": 9,
   "id": "fcec885c-8db2-4806-a08f-98fcf994b8d0",
   "metadata": {},
   "outputs": [
    {
     "name": "stdout",
     "output_type": "stream",
     "text": [
      "merge sucessfull\n"
     ]
    }
   ],
   "source": [
    "input_directory = '/Users/saurabh/Documents/projects/Voice-Activity-Detection/data/bh_dataset/bh_audios'  \n",
    "output_directory = '/Users/saurabh/Documents/projects/Voice-Activity-Detection/data/bh_dataset/bh_audios(silero)' \n",
    "\n",
    "process_directory(input_directory, output_directory, model_silero)"
   ]
  }
 ],
 "metadata": {
  "kernelspec": {
   "display_name": "Python 3 (ipykernel)",
   "language": "python",
   "name": "python3"
  },
  "language_info": {
   "codemirror_mode": {
    "name": "ipython",
    "version": 3
   },
   "file_extension": ".py",
   "mimetype": "text/x-python",
   "name": "python",
   "nbconvert_exporter": "python",
   "pygments_lexer": "ipython3",
   "version": "3.11.6"
  }
 },
 "nbformat": 4,
 "nbformat_minor": 5
}
